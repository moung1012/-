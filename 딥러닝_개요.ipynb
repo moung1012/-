{
  "nbformat": 4,
  "nbformat_minor": 0,
  "metadata": {
    "colab": {
      "name": "딥러닝 개요.ipynb",
      "provenance": [],
      "collapsed_sections": [],
      "authorship_tag": "ABX9TyNFa7BeLLWaQMYir27fUD+Y",
      "include_colab_link": true
    },
    "kernelspec": {
      "name": "python3",
      "display_name": "Python 3"
    },
    "language_info": {
      "name": "python"
    }
  },
  "cells": [
    {
      "cell_type": "markdown",
      "metadata": {
        "id": "view-in-github",
        "colab_type": "text"
      },
      "source": [
        "<a href=\"https://colab.research.google.com/github/moung1012/deeplearning-study/blob/main/%EB%94%A5%EB%9F%AC%EB%8B%9D_%EA%B0%9C%EC%9A%94.ipynb\" target=\"_parent\"><img src=\"https://colab.research.google.com/assets/colab-badge.svg\" alt=\"Open In Colab\"/></a>"
      ]
    },
    {
      "cell_type": "markdown",
      "metadata": {
        "id": "5IVCyTUO9BUR"
      },
      "source": [
        "### 대표적인 프레임워크\n",
        "- 텐서플로우\n",
        "  - 구글,핵심코드가C++\n",
        "  - 직관적인 고수준 API\n",
        "  - 뛰어난 이식성 및 확장성, 즉 다양한 플랫폼으로 확장하여 활용 가능\n",
        "    - Tensorflow-Lite,TensorFlow Extended\n",
        "  - 진입장벽 다소 높음\n",
        "- 케라스\n",
        "  - 직관적이고 쉬운 API\n",
        "  - 텐서플로우의 백엔드 활용\n",
        "  - 동일한 코드로 CPU,GPU에서 실행 가능\n",
        "- 파이토치(PyTorch)\n",
        "  - Facebook\n",
        "  - C/CUDA Backend 사용\n",
        "  - 진입장벽이 낮음, 파이썬 문법과 유사\n",
        "  - GPU 가속 연산\n"
      ]
    },
    {
      "cell_type": "markdown",
      "metadata": {
        "id": "flH2ll6TTPED"
      },
      "source": [
        "---\n",
        "딥러닝의 활용 분야\n",
        "- 이미지\n",
        "- Speech Recognition (음성 인식)\n",
        "- Medical Diagnosis(의료 진단)\n",
        "- Statistical Arbitrage(통계적 차익거래)\n",
        "- Learning Associations (학습 협회)\n",
        "- Classification (분류)\n",
        "- Prediction (예측)\n",
        "- Extraction (추출)\n",
        "- Regression (회귀)\n",
        "---\n"
      ]
    },
    {
      "cell_type": "markdown",
      "metadata": {
        "id": "9yo2AIzzV1P9"
      },
      "source": [
        "---\n",
        "신경망(Neural Network)\n",
        "- 인공지능 분야에서 쓰이는 알고리즘\n",
        "- 인간의 뇌 구조를 모방(뉴런과 뉴런 사이에는 전기신호를 통해 정보를 전달)\n",
        "- 인간의 뇌 구조를 모델링한 구조\n",
        "  - 입력(input)가 가중치(weights)를 곱한 선형구조(linear)\n",
        "  - 활성화 함수(activation funcion)를 통한 비선형 구조(non-liner)표현 가능\n",
        "---\n",
        "인공뉴런 VS 인공 신경망\n",
        "- 인공 뉴런(Artificial Neuron)\n",
        "  - 노드와 엣지로 표현\n",
        "    - 하나의 노드안에서 입력과 가중치를 곱하고 더하는 선형 계산\n",
        "    - 활성화 함수 통과를 모두 포함\n",
        "  - 인공 신경망 (Artificail Neural Network)\n",
        "    - 여러개의 인공뉴론들이 모여 연결된 형태\n",
        "    - 뉴런들이 모인 하나의 단위를 층(Layer)이라고 하고, 여러 층으로 이루어질 수 있음\n",
        "    - ex) 입력층(input layer),은닉층(hidden layer),출력층(Output Layer)\n",
        "    "
      ]
    },
    {
      "cell_type": "markdown",
      "metadata": {
        "id": "xlas7rQ_YgTH"
      },
      "source": [
        "---\n",
        "완전 연결 계층(Fully-Connected Layer)\n",
        "- <B>모든 노드들이 서로 연결된 신경망\n",
        "- Dense Layer라고도 불림\n"
      ]
    },
    {
      "cell_type": "markdown",
      "metadata": {
        "id": "sTy_ec-UZNhn"
      },
      "source": [
        "---\n",
        "## 신경망의 활용\n",
        "회귀(Regression)\n",
        "- 잡음(noise)을 포함한 학습 데이터로부터 어떤 규칙을 찾고 연속된 값의 출력을 추정\n",
        "- 아래의 식을 만족하는 적절한 $a$ (기울기), $b$ ($y$절편)를 찾아야함\n",
        "\n",
        "  $ \\qquad Y = aX + b \\\\ $\n",
        "    - $X$ :$\\quad $입력\n",
        "    - $Y$ :$\\quad $출력\n",
        "    - $a$ :$\\quad $기울기\n",
        "    - $b$ :$\\quad $$y$절편\n",
        "\n",
        "* 회귀 문제 예시\n",
        "  + 나이, 키, 몸무게에 따른 기대수명\n",
        "  + 아파트의 방의 개수, 크기, 주변 상가 등에 따른 아파트 가격"
      ]
    },
    {
      "cell_type": "markdown",
      "metadata": {
        "id": "iFsawpq7ZhXF"
      },
      "source": [
        "### 분류(Classification)\n",
        "\n",
        "* 입력값에 따라 특정 범주(category)로 구분하는 문제  \n",
        "  **<u>분류 곡선(직선)</u>**을 찾아야 함\n",
        "\n",
        "* 범주의 개수에 따라서 이진 분류(Binary Classification), 로지스틱 회귀(Logistic Regression), 선형회귀와 비슷하지만, **범주형 데이터**를 분류하는 방향으로 선을 그음\n",
        "  + 면접점수, 실기점수, 필기점수에 따른 시험 합격 여부  \n",
        "* 다중 분류(Multi-Class Classification)\n",
        "  + 꽃잎 모양, 색깔에 따른 꽃의 종 분류\n"
      ]
    },
    {
      "cell_type": "code",
      "metadata": {
        "id": "NXlh7kMxaZ2P"
      },
      "source": [
        " "
      ],
      "execution_count": null,
      "outputs": []
    }
  ]
}